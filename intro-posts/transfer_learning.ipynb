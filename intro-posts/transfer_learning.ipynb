{
 "cells": [
  {
   "cell_type": "code",
   "execution_count": 56,
   "metadata": {},
   "outputs": [],
   "source": [
    "import torch\n",
    "from torch import nn, optim \n",
    "from torch.utils.data import DataLoader \n",
    "from torchvision.models import vgg16\n",
    "from torchvision import datasets, transforms \n",
    "from tqdm import tqdm"
   ]
  },
  {
   "cell_type": "code",
   "execution_count": 57,
   "metadata": {},
   "outputs": [
    {
     "name": "stdout",
     "output_type": "stream",
     "text": [
      "Files already downloaded and verified\n",
      "Files already downloaded and verified\n"
     ]
    }
   ],
   "source": [
    "BATCH_SIZE = 32\n",
    "IMG_SIZE = 224 # input image size for VGG-16\n",
    "\n",
    "transform = transforms.Compose([\n",
    "    transforms.Resize(IMG_SIZE),\n",
    "    transforms.ToTensor(),\n",
    "])\n",
    "data = datasets.CIFAR10(root = '~/Desktop/data', train=True, download=True, transform=transform)\n",
    "loader = DataLoader(dataset=data, batch_size=BATCH_SIZE, shuffle=True) # train loader\n",
    "\n",
    "test = datasets.CIFAR10(root = '~/Desktop/data', train=False, download=True, transform=transform)\n",
    "test_loader = DataLoader(dataset=test, batch_size=BATCH_SIZE, shuffle=True)\n",
    "\n",
    "dev = torch.device('mps')"
   ]
  },
  {
   "cell_type": "code",
   "execution_count": 58,
   "metadata": {},
   "outputs": [
    {
     "name": "stdout",
     "output_type": "stream",
     "text": [
      "VGG(\n",
      "  (features): Sequential(\n",
      "    (0): Conv2d(3, 64, kernel_size=(3, 3), stride=(1, 1), padding=(1, 1))\n",
      "    (1): ReLU(inplace=True)\n",
      "    (2): Conv2d(64, 64, kernel_size=(3, 3), stride=(1, 1), padding=(1, 1))\n",
      "    (3): ReLU(inplace=True)\n",
      "    (4): MaxPool2d(kernel_size=2, stride=2, padding=0, dilation=1, ceil_mode=False)\n",
      "    (5): Conv2d(64, 128, kernel_size=(3, 3), stride=(1, 1), padding=(1, 1))\n",
      "    (6): ReLU(inplace=True)\n",
      "    (7): Conv2d(128, 128, kernel_size=(3, 3), stride=(1, 1), padding=(1, 1))\n",
      "    (8): ReLU(inplace=True)\n",
      "    (9): MaxPool2d(kernel_size=2, stride=2, padding=0, dilation=1, ceil_mode=False)\n",
      "    (10): Conv2d(128, 256, kernel_size=(3, 3), stride=(1, 1), padding=(1, 1))\n",
      "    (11): ReLU(inplace=True)\n",
      "    (12): Conv2d(256, 256, kernel_size=(3, 3), stride=(1, 1), padding=(1, 1))\n",
      "    (13): ReLU(inplace=True)\n",
      "    (14): Conv2d(256, 256, kernel_size=(3, 3), stride=(1, 1), padding=(1, 1))\n",
      "    (15): ReLU(inplace=True)\n",
      "    (16): MaxPool2d(kernel_size=2, stride=2, padding=0, dilation=1, ceil_mode=False)\n",
      "    (17): Conv2d(256, 512, kernel_size=(3, 3), stride=(1, 1), padding=(1, 1))\n",
      "    (18): ReLU(inplace=True)\n",
      "    (19): Conv2d(512, 512, kernel_size=(3, 3), stride=(1, 1), padding=(1, 1))\n",
      "    (20): ReLU(inplace=True)\n",
      "    (21): Conv2d(512, 512, kernel_size=(3, 3), stride=(1, 1), padding=(1, 1))\n",
      "    (22): ReLU(inplace=True)\n",
      "    (23): MaxPool2d(kernel_size=2, stride=2, padding=0, dilation=1, ceil_mode=False)\n",
      "    (24): Conv2d(512, 512, kernel_size=(3, 3), stride=(1, 1), padding=(1, 1))\n",
      "    (25): ReLU(inplace=True)\n",
      "    (26): Conv2d(512, 512, kernel_size=(3, 3), stride=(1, 1), padding=(1, 1))\n",
      "    (27): ReLU(inplace=True)\n",
      "    (28): Conv2d(512, 512, kernel_size=(3, 3), stride=(1, 1), padding=(1, 1))\n",
      "    (29): ReLU(inplace=True)\n",
      "    (30): MaxPool2d(kernel_size=2, stride=2, padding=0, dilation=1, ceil_mode=False)\n",
      "  )\n",
      "  (avgpool): AdaptiveAvgPool2d(output_size=(7, 7))\n",
      "  (classifier): Sequential(\n",
      "    (0): Linear(in_features=25088, out_features=4096, bias=True)\n",
      "    (1): ReLU(inplace=True)\n",
      "    (2): Dropout(p=0.5, inplace=False)\n",
      "    (3): Linear(in_features=4096, out_features=4096, bias=True)\n",
      "    (4): ReLU(inplace=True)\n",
      "    (5): Dropout(p=0.5, inplace=False)\n",
      "    (6): Linear(in_features=4096, out_features=1000, bias=True)\n",
      "  )\n",
      ")\n"
     ]
    }
   ],
   "source": [
    "model = vgg16(pretrained=True).to(dev) # loading pre-trained model\n",
    "print(model)"
   ]
  },
  {
   "cell_type": "code",
   "execution_count": 59,
   "metadata": {},
   "outputs": [],
   "source": [
    "model.classifier[6] = nn.Linear(in_features=4096, out_features=10).to(dev) # replacing output layer\n",
    "\n",
    "parameters_to_update = []\n",
    "parameter_names = ['classifier.6.weight', 'classifier.6.bias'] # names of parameters to be updated\n",
    "\n",
    "for name, parameter in model.named_parameters():\n",
    "    if name in parameter_names :\n",
    "        parameter.requires_grad = True # accumulates gradients for required parameterss\n",
    "        parameters_to_update.append(parameter) # adds param to update list for optimizer\n",
    "    else : \n",
    "        parameter.requires_grad = False # rest of the parameters are not updated\n",
    "\n",
    "\n",
    "LR = 0.001\n",
    "EPOCHS = 5\n",
    "\n",
    "crit = nn.CrossEntropyLoss()\n",
    "opt = optim.Adam(params=parameters_to_update, lr=LR)"
   ]
  },
  {
   "cell_type": "code",
   "execution_count": 60,
   "metadata": {},
   "outputs": [
    {
     "name": "stderr",
     "output_type": "stream",
     "text": [
      "                                                                              \r"
     ]
    },
    {
     "name": "stdout",
     "output_type": "stream",
     "text": [
      "Accuracy : 0.6932\n"
     ]
    },
    {
     "name": "stderr",
     "output_type": "stream",
     "text": [
      "                                                                              \r"
     ]
    },
    {
     "name": "stdout",
     "output_type": "stream",
     "text": [
      "Accuracy : 0.7086\n"
     ]
    },
    {
     "name": "stderr",
     "output_type": "stream",
     "text": [
      "                                                                              \r"
     ]
    },
    {
     "name": "stdout",
     "output_type": "stream",
     "text": [
      "Accuracy : 0.7096\n"
     ]
    },
    {
     "name": "stderr",
     "output_type": "stream",
     "text": [
      "                                                                              \r"
     ]
    },
    {
     "name": "stdout",
     "output_type": "stream",
     "text": [
      "Accuracy : 0.7089\n"
     ]
    },
    {
     "name": "stderr",
     "output_type": "stream",
     "text": [
      "                                                                              "
     ]
    },
    {
     "name": "stdout",
     "output_type": "stream",
     "text": [
      "Accuracy : 0.7224\n"
     ]
    },
    {
     "name": "stderr",
     "output_type": "stream",
     "text": [
      "\r"
     ]
    }
   ],
   "source": [
    "ALL_LOSS = []\n",
    "\n",
    "for e in range(EPOCHS):\n",
    "\n",
    "    loop = tqdm(enumerate(loader), total=len(loader), leave=False, position=0)\n",
    "    model.train()\n",
    "\n",
    "    for batch_id, (x, y) in loop : \n",
    "\n",
    "        x, y = x.to(dev), y.to(dev)\n",
    "        opt.zero_grad() \n",
    "        yhat = model(x)\n",
    "        loss = crit(yhat, y)\n",
    "        ALL_LOSS.append(loss.item())\n",
    "        loss.backward()\n",
    "        opt.step()\n",
    "\n",
    "        loop.set_description(f'Epoch : [{e}/{EPOCHS}]')\n",
    "        loop.set_postfix(loss=loss.item())\n",
    "\n",
    "\n",
    "    loop = tqdm(enumerate(test_loader), total=len(test_loader), leave=False, position=0)\n",
    "    model.eval()\n",
    "    correct = 0\n",
    "\n",
    "    for batch_id, (x, y) in loop :    \n",
    "        x, y = x.to(dev), y.to(dev) \n",
    "        yhat = model(x).argmax(dim=1)\n",
    "        correct += torch.sum(yhat == y).item()\n",
    "    acc = correct / len(test)\n",
    "    print(f\"Accuracy : {acc}\")"
   ]
  }
 ],
 "metadata": {
  "kernelspec": {
   "display_name": "Python 3.9.13 ('ml')",
   "language": "python",
   "name": "python3"
  },
  "language_info": {
   "codemirror_mode": {
    "name": "ipython",
    "version": 3
   },
   "file_extension": ".py",
   "mimetype": "text/x-python",
   "name": "python",
   "nbconvert_exporter": "python",
   "pygments_lexer": "ipython3",
   "version": "3.9.13"
  },
  "orig_nbformat": 4,
  "vscode": {
   "interpreter": {
    "hash": "0aff4ff998abb2023bb4c02eb86f08907a6ec3d88174efdd5a5bf68897afa261"
   }
  }
 },
 "nbformat": 4,
 "nbformat_minor": 2
}
